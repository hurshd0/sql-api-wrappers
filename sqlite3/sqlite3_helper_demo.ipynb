{
 "cells": [
  {
   "cell_type": "markdown",
   "metadata": {},
   "source": [
    "### Import super awesome  `sqlite3_helper` module"
   ]
  },
  {
   "cell_type": "code",
   "execution_count": 1,
   "metadata": {
    "ExecuteTime": {
     "end_time": "2019-09-13T04:28:04.714318Z",
     "start_time": "2019-09-13T04:28:04.710870Z"
    }
   },
   "outputs": [],
   "source": [
    "import sqlite3_helper as sql3"
   ]
  },
  {
   "cell_type": "markdown",
   "metadata": {},
   "source": [
    "### Create Connection"
   ]
  },
  {
   "cell_type": "code",
   "execution_count": 2,
   "metadata": {
    "ExecuteTime": {
     "end_time": "2019-09-13T04:28:04.749630Z",
     "start_time": "2019-09-13T04:28:04.715982Z"
    }
   },
   "outputs": [
    {
     "name": "stdout",
     "output_type": "stream",
     "text": [
      "Using SQLite version: 2.6.0\n",
      "Creating Connection to titanic.sqlite3...\n"
     ]
    }
   ],
   "source": [
    "conn = sql3.create_connection('titanic.sqlite3', verbose=True)"
   ]
  },
  {
   "cell_type": "markdown",
   "metadata": {},
   "source": [
    "### Print all tables in database"
   ]
  },
  {
   "cell_type": "code",
   "execution_count": 3,
   "metadata": {
    "ExecuteTime": {
     "end_time": "2019-09-13T04:28:04.780350Z",
     "start_time": "2019-09-13T04:28:04.751507Z"
    }
   },
   "outputs": [
    {
     "name": "stdout",
     "output_type": "stream",
     "text": [
      "-------------- TABLES IN SQLITE3 DATABASE --------------\n",
      "('titanic',)\n"
     ]
    }
   ],
   "source": [
    "tables = sql3.get_sql_tables(conn, verbose=True)"
   ]
  },
  {
   "cell_type": "markdown",
   "metadata": {},
   "source": [
    "### Get table metadata (i.e. PRAGMA)"
   ]
  },
  {
   "cell_type": "code",
   "execution_count": 4,
   "metadata": {
    "ExecuteTime": {
     "end_time": "2019-09-13T04:28:04.828990Z",
     "start_time": "2019-09-13T04:28:04.782681Z"
    }
   },
   "outputs": [
    {
     "name": "stdout",
     "output_type": "stream",
     "text": [
      "-------------- COLUMN INFO FOR titanic --------------\n",
      "cid            name           type           notnull        dflt_value     pk             \n",
      "0              id             INTEGER        0                             0              \n",
      "1              Survived       INTEGER        0                             0              \n",
      "2              Pclass         INTEGER        0                             0              \n",
      "3              Name           TEXT           0                             0              \n",
      "4              Sex            TEXT           0                             0              \n",
      "5              Age            REAL           0                             0              \n",
      "6              Siblings/Spouses AboardINTEGER        0                             0              \n",
      "7              Parents/Children AboardINTEGER        0                             0              \n",
      "8              Fare           REAL           0                             0              \n"
     ]
    }
   ],
   "source": [
    "titanic_info = sql3.get_table_info(conn, 'titanic', verbose=True)"
   ]
  },
  {
   "cell_type": "markdown",
   "metadata": {},
   "source": [
    "### Do any SELECT query you like"
   ]
  },
  {
   "cell_type": "code",
   "execution_count": 5,
   "metadata": {
    "ExecuteTime": {
     "end_time": "2019-09-13T04:28:04.861388Z",
     "start_time": "2019-09-13T04:28:04.830632Z"
    }
   },
   "outputs": [
    {
     "name": "stdout",
     "output_type": "stream",
     "text": [
      "(0, 0, 3, 'Mr. Owen Harris Braund', 'male', 22.0, 1, 0, 7.25)\n",
      "(1, 1, 1, 'Mrs. John Bradley (Florence Briggs Thayer) Cumings', 'female', 38.0, 1, 0, 71.2833)\n",
      "(2, 1, 3, 'Miss. Laina Heikkinen', 'female', 26.0, 0, 0, 7.925)\n",
      "(3, 1, 1, 'Mrs. Jacques Heath (Lily May Peel) Futrelle', 'female', 35.0, 1, 0, 53.1)\n",
      "(4, 0, 3, 'Mr. William Henry Allen', 'male', 35.0, 0, 0, 8.05)\n",
      "(5, 0, 3, 'Mr. James Moran', 'male', 27.0, 0, 0, 8.4583)\n",
      "(6, 0, 1, 'Mr. Timothy J McCarthy', 'male', 54.0, 0, 0, 51.8625)\n",
      "(7, 0, 3, 'Master. Gosta Leonard Palsson', 'male', 2.0, 3, 1, 21.075)\n",
      "(8, 1, 3, 'Mrs. Oscar W (Elisabeth Vilhelmina Berg) Johnson', 'female', 27.0, 0, 2, 11.1333)\n",
      "(9, 1, 2, 'Mrs. Nicholas (Adele Achem) Nasser', 'female', 14.0, 1, 0, 30.0708)\n"
     ]
    }
   ],
   "source": [
    "query = 'SELECT * FROM titanic LIMIT 10;'\n",
    "results = sql3.select_query(conn, query, verbose=True)"
   ]
  }
 ],
 "metadata": {
  "kernelspec": {
   "display_name": "Python 3.6 (practicalml)",
   "language": "python",
   "name": "practicalml"
  },
  "language_info": {
   "codemirror_mode": {
    "name": "ipython",
    "version": 3
   },
   "file_extension": ".py",
   "mimetype": "text/x-python",
   "name": "python",
   "nbconvert_exporter": "python",
   "pygments_lexer": "ipython3",
   "version": "3.7.4"
  }
 },
 "nbformat": 4,
 "nbformat_minor": 2
}
